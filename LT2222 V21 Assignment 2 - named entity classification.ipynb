{
 "cells": [
  {
   "cell_type": "markdown",
   "metadata": {},
   "source": [
    "## Introduction\n",
    "\n",
    "In this assignment, you are going to build a classifier for named entities from the Groningen Meaning Bank corpus.  Named entity recognition (NER) takes noun phrases from a text and identifies whether they are persons, organizations, and so on.  You will be using the Groningen Meaning Bank named entity corpus available on mltgpu at `/scratch/lt2222-v21-resources/GMB_dataset.txt`.  In this version of the task, you will assume we know *that* something is a named entity, and instead use multi-class classification to identify its type.  So you will be doing named entity classification but *not* recognition.\n",
    "\n",
    "The data looks like this: \n",
    "\n",
    "```\n",
    "3996    182.0   Nicole  NNP     B-per\n",
    "3997    182.0   Ritchie NNP     I-per\n",
    "3998    182.0   is      VBZ     O\n",
    "3999    182.0   pregnant        JJ      O\n",
    "4000    182.0   .       .       O\n",
    "4001    183.0   Speaking        VBG     O\n",
    "4002    183.0   to      TO      O\n",
    "4003    183.0   ABC     NNP     B-org\n",
    "4004    183.0   News    NNP     I-org\n",
    "4005    183.0   interviewer     NN      O\n",
    "4006    183.0   Dianne  NNP     B-per\n",
    "4007    183.0   Sawyer  NNP     I-per\n",
    "4008    183.0   ,       ,       O\n",
    "4009    183.0   the     DT      O\n",
    "4010    183.0   25-year-old     JJ      O\n",
    "4011    183.0   co-star NN      O\n",
    "4012    183.0   of      IN      O\n",
    "4013    183.0   TV      NN      O\n",
    "4014    183.0   's      POS     O\n",
    "4015    183.0   The     DT      B-art\n",
    "4016    183.0   Simple  NNP     I-art\n",
    "4017    183.0   Life    NNP     I-art\n",
    "4018    183.0   said    VBD     O\n",
    "4019    183.0   she     PRP     O\n",
    "4020    183.0   is      VBZ     O\n",
    "4021    183.0   almost  RB      O\n",
    "4022    183.0   four    CD      O\n",
    "4023    183.0   months  NNS     O\n",
    "4024    183.0   along   IN      O\n",
    "4025    183.0   in      IN      O\n",
    "4026    183.0   her     PRP$    O\n",
    "4027    183.0   pregnancy       NN      O\n",
    "4028    183.0   .       .       O\n",
    "```\n",
    "\n",
    "The first column is the line number.  The second column is a sentence number (for some reason given as a float; ignore it).  The third column is the word.  The fourth column is a part of speech (POS) tag in Penn Treebank format.  The last column contains the named entity annotation. \n",
    "\n",
    "The annotation works like this.  Every `O` just means that the row does not represent a named entity.  `B-xyx` means the first word in a named entity with type `xyx`. `I-xyz` means the second and later words of an `xyz` entity, if there are any.  That means that every time there's a `B` or an `I`, there's a named entity.  \n",
    "\n",
    "The entity types in the corpus are `art`,\n",
    "`eve`,\n",
    "`geo`,\n",
    "`gpe`,\n",
    "`nat`,\n",
    "`org`,\n",
    "`per`,\n",
    "and `tim`\n",
    "\n",
    "Your task is the following.\n",
    "1. To preprocess the text (lowercase and lemmatize; punctuation can be preserved as it gets its own rows).\n",
    "2. To create instances from every from every identified named entity in the text with the type of the NE as the class, and a surrounding context of five words on either side as the features.  \n",
    "3. To generate vectors and split the instances into training and testing datasets at random.\n",
    "4. To train a support vector machine (via `sklearn.svm.LinearSVC`) for classifying the NERs.\n",
    "5. To evaluate the performance of the classifier.\n",
    "\n",
    "You will do this by modifying a separate file containing functions that will be called from this notebook as a module.  You can modify this notebook for testing purposes but please only submit the original.  You will document everything in Markdown in README.md and submit a GitHub repository URL.\n",
    "\n",
    "This assignment is due on **Tuesday, 2021 March 9 at 23:59**.  It has **25 points** and **7 bonus points**."
   ]
  },
  {
   "cell_type": "code",
   "execution_count": 1,
   "metadata": {},
   "outputs": [],
   "source": [
    "import a2\n",
    "from sklearn.svm import LinearSVC"
   ]
  },
  {
   "cell_type": "code",
   "execution_count": 2,
   "metadata": {},
   "outputs": [],
   "source": [
    "gmbfile = open('/scratch/lt2222-v21-resources/GMB_dataset.txt', \"r\")"
   ]
  },
  {
   "cell_type": "markdown",
   "metadata": {},
   "source": [
    "## Part 1 - preprocessing (3 points)"
   ]
  },
  {
   "cell_type": "markdown",
   "metadata": {},
   "source": [
    "See step 1 above.  The data is coming to you as an unused file handle object.  You can return the data in any indexable form you like.  You can also choose to remove infrequent or uninformative words to reduce the size of the feature space. (Document this in README.md.)"
   ]
  },
  {
   "cell_type": "code",
   "execution_count": 3,
   "metadata": {},
   "outputs": [
    {
     "output_type": "execute_result",
     "data": {
      "text/plain": [
       "   word nº sentence nº       word POS tag entity type\n",
       "20      20         1.0       from      IN           O\n",
       "21      21         1.0       that      DT           O\n",
       "22      22         1.0    country      NN           O\n",
       "23      24         2.0     family     NNS           O\n",
       "24      25         2.0         of      IN           O\n",
       "25      26         2.0    soldier     NNS           O\n",
       "26      27         2.0       kill     VBN           O\n",
       "27      28         2.0         in      IN           O\n",
       "28      29         2.0        the      DT           O\n",
       "29      30         2.0   conflict      NN           O\n",
       "30      31         2.0       join     VBD           O\n",
       "31      32         2.0        the      DT           O\n",
       "32      33         2.0  protester     NNS           O\n",
       "33      34         2.0        who      WP           O\n",
       "34      35         2.0      carry     VBD           O\n",
       "35      36         2.0     banner     NNS           O\n",
       "36      37         2.0       with      IN           O\n",
       "37      38         2.0       such      JJ           O\n",
       "38      39         2.0     slogan     NNS           O\n",
       "39      40         2.0          a      IN           O"
      ],
      "text/html": "<div>\n<style scoped>\n    .dataframe tbody tr th:only-of-type {\n        vertical-align: middle;\n    }\n\n    .dataframe tbody tr th {\n        vertical-align: top;\n    }\n\n    .dataframe thead th {\n        text-align: right;\n    }\n</style>\n<table border=\"1\" class=\"dataframe\">\n  <thead>\n    <tr style=\"text-align: right;\">\n      <th></th>\n      <th>word nº</th>\n      <th>sentence nº</th>\n      <th>word</th>\n      <th>POS tag</th>\n      <th>entity type</th>\n    </tr>\n  </thead>\n  <tbody>\n    <tr>\n      <th>20</th>\n      <td>20</td>\n      <td>1.0</td>\n      <td>from</td>\n      <td>IN</td>\n      <td>O</td>\n    </tr>\n    <tr>\n      <th>21</th>\n      <td>21</td>\n      <td>1.0</td>\n      <td>that</td>\n      <td>DT</td>\n      <td>O</td>\n    </tr>\n    <tr>\n      <th>22</th>\n      <td>22</td>\n      <td>1.0</td>\n      <td>country</td>\n      <td>NN</td>\n      <td>O</td>\n    </tr>\n    <tr>\n      <th>23</th>\n      <td>24</td>\n      <td>2.0</td>\n      <td>family</td>\n      <td>NNS</td>\n      <td>O</td>\n    </tr>\n    <tr>\n      <th>24</th>\n      <td>25</td>\n      <td>2.0</td>\n      <td>of</td>\n      <td>IN</td>\n      <td>O</td>\n    </tr>\n    <tr>\n      <th>25</th>\n      <td>26</td>\n      <td>2.0</td>\n      <td>soldier</td>\n      <td>NNS</td>\n      <td>O</td>\n    </tr>\n    <tr>\n      <th>26</th>\n      <td>27</td>\n      <td>2.0</td>\n      <td>kill</td>\n      <td>VBN</td>\n      <td>O</td>\n    </tr>\n    <tr>\n      <th>27</th>\n      <td>28</td>\n      <td>2.0</td>\n      <td>in</td>\n      <td>IN</td>\n      <td>O</td>\n    </tr>\n    <tr>\n      <th>28</th>\n      <td>29</td>\n      <td>2.0</td>\n      <td>the</td>\n      <td>DT</td>\n      <td>O</td>\n    </tr>\n    <tr>\n      <th>29</th>\n      <td>30</td>\n      <td>2.0</td>\n      <td>conflict</td>\n      <td>NN</td>\n      <td>O</td>\n    </tr>\n    <tr>\n      <th>30</th>\n      <td>31</td>\n      <td>2.0</td>\n      <td>join</td>\n      <td>VBD</td>\n      <td>O</td>\n    </tr>\n    <tr>\n      <th>31</th>\n      <td>32</td>\n      <td>2.0</td>\n      <td>the</td>\n      <td>DT</td>\n      <td>O</td>\n    </tr>\n    <tr>\n      <th>32</th>\n      <td>33</td>\n      <td>2.0</td>\n      <td>protester</td>\n      <td>NNS</td>\n      <td>O</td>\n    </tr>\n    <tr>\n      <th>33</th>\n      <td>34</td>\n      <td>2.0</td>\n      <td>who</td>\n      <td>WP</td>\n      <td>O</td>\n    </tr>\n    <tr>\n      <th>34</th>\n      <td>35</td>\n      <td>2.0</td>\n      <td>carry</td>\n      <td>VBD</td>\n      <td>O</td>\n    </tr>\n    <tr>\n      <th>35</th>\n      <td>36</td>\n      <td>2.0</td>\n      <td>banner</td>\n      <td>NNS</td>\n      <td>O</td>\n    </tr>\n    <tr>\n      <th>36</th>\n      <td>37</td>\n      <td>2.0</td>\n      <td>with</td>\n      <td>IN</td>\n      <td>O</td>\n    </tr>\n    <tr>\n      <th>37</th>\n      <td>38</td>\n      <td>2.0</td>\n      <td>such</td>\n      <td>JJ</td>\n      <td>O</td>\n    </tr>\n    <tr>\n      <th>38</th>\n      <td>39</td>\n      <td>2.0</td>\n      <td>slogan</td>\n      <td>NNS</td>\n      <td>O</td>\n    </tr>\n    <tr>\n      <th>39</th>\n      <td>40</td>\n      <td>2.0</td>\n      <td>a</td>\n      <td>IN</td>\n      <td>O</td>\n    </tr>\n  </tbody>\n</table>\n</div>"
     },
     "metadata": {},
     "execution_count": 3
    }
   ],
   "source": [
    "inputdata = a2.preprocess(gmbfile)\n",
    "gmbfile.close()\n",
    "inputdata[20:40]"
   ]
  },
  {
   "cell_type": "markdown",
   "metadata": {},
   "source": [
    "## Part 2 - Creating instances (7 points)"
   ]
  },
  {
   "cell_type": "markdown",
   "metadata": {},
   "source": [
    "Do step 2 above.  You will create a collection of Instance objects.  Remember to consider the case where the NE is at the beginning of a sentence or at the end, or close to either (you can create a special start token for that).  You can also start counting from before the `B` end of the NE mention and after the last `I` of the NE mention. That means that the instances should include things before and after the named entity mention, but not the named entity text itself."
   ]
  },
  {
   "cell_type": "code",
   "execution_count": 4,
   "metadata": {},
   "outputs": [],
   "source": [
    "instances = a2.create_instances(inputdata)"
   ]
  },
  {
   "cell_type": "code",
   "execution_count": 5,
   "metadata": {},
   "outputs": [
    {
     "output_type": "execute_result",
     "data": {
      "text/plain": [
       "[Class: gpe Features: ['<start>', '<start>', '<start>', '<start>', '<start>', 'this', 'week', 'restart', 'part', 'of'],\n",
       " Class: geo Features: ['of', 'the', 'conversion', 'process', 'at', 'nuclear', 'plant', '<end>', '<end>', '<end>'],\n",
       " Class: gpe Features: ['<start>', '<start>', '<start>', '<start>', '<start>', 'official', 'say', 'they', 'expect', 'to'],\n",
       " Class: tim Features: ['sealed', 'sensitive', 'part', 'of', 'the', 'after', 'an', 'iaea', 'surveillance', 'system'],\n",
       " Class: org Features: ['of', 'the', 'plant', 'wednesday', 'after', 'surveillance', 'system', 'begin', 'function', '<end>'],\n",
       " Class: org Features: ['<start>', '<start>', '<start>', '<start>', '<start>', 'union', 'with', 'u.s.', 'backing', 'have'],\n",
       " Class: gpe Features: ['<start>', '<start>', 'the', 'european', 'union', 'backing', 'have', 'threaten', 'to', 'refer'],\n",
       " Class: gpe Features: ['u.s.', 'backing', 'have', 'threaten', 'to', 'to', 'the', 'u.n.', 'security', 'council'],\n",
       " Class: org Features: ['threaten', 'to', 'refer', 'iran', 'to', 'security', 'council', 'which', 'could', 'impose'],\n",
       " Class: gpe Features: ['could', 'impose', 'sanction', 'if', 'it', 'have', 'violate', 'the', 'nuclear', 'non-proliferation'],\n",
       " Class: art Features: ['it', 'find', 'tehran', 'have', 'violate', 'non-proliferation', 'treaty', '<end>', '<end>', '<end>'],\n",
       " Class: gpe Features: ['<start>', '<start>', '<start>', '<start>', '<start>', \"'s\", 'new', 'president', 'mahmoud', 'ahmadinejad'],\n",
       " Class: per Features: ['<start>', '<start>', '<start>', 'iran', \"'s\", 'mahmoud', 'ahmadinejad', 'say', 'tuesday', 'that'],\n",
       " Class: tim Features: [\"'s\", 'new', 'president', 'mahmoud', 'ahmadinejad', 'that', 'european', 'incentive', 'aim', 'at'],\n",
       " Class: gpe Features: ['president', 'mahmoud', 'ahmadinejad', 'say', 'tuesday', 'incentive', 'aim', 'at', 'persuade', 'iran'],\n",
       " Class: gpe Features: ['<start>', '<start>', '<start>', '<start>', '<start>', \"'s\", 'new', 'president', 'mahmoud', 'ahmadinejad'],\n",
       " Class: gpe Features: ['program', 'be', 'an', 'insult', 'to', 'nation', '<end>', '<end>', '<end>', '<end>'],\n",
       " Class: gpe Features: ['<start>', '<start>', '<start>', '<start>', '<start>', 'and', 'four', 'nigerian', 'oil', 'worker'],\n",
       " Class: gpe Features: ['<start>', '<start>', 'two', 'german', 'and', 'oil', 'worker', 'be', 'kidnap', 'by'],\n",
       " Class: geo Features: ['a', 'raid', 'on', 'a', 'boat', \"'s\", 'southern', 'oil-rich', 'delta', 'region']]"
      ]
     },
     "metadata": {},
     "execution_count": 5
    }
   ],
   "source": [
    "instances[20:40]"
   ]
  },
  {
   "cell_type": "markdown",
   "metadata": {},
   "source": [
    "## Part 3 - Creating the table and splitting (10 points)\n",
    "\n",
    "Here you're going to write the functions that create a data table with \"document\" vectors representing each instance and split the table into training and testing sets and random with an 80%/20% train/test split."
   ]
  },
  {
   "cell_type": "code",
   "execution_count": 6,
   "metadata": {},
   "outputs": [
    {
     "output_type": "execute_result",
     "data": {
      "text/plain": [
       "    attempted  thousand   of  demonstrator  have  march   to  protest  the  \\\n",
       "20        0.0       0.0  1.0           0.0   0.0    0.0  0.0      0.0  0.0   \n",
       "21        0.0       0.0  1.0           0.0   0.0    0.0  0.0      0.0  1.0   \n",
       "22        0.0       0.0  0.0           0.0   0.0    0.0  1.0      0.0  0.0   \n",
       "23        0.0       0.0  1.0           0.0   0.0    0.0  0.0      0.0  1.0   \n",
       "24        0.0       0.0  1.0           0.0   0.0    0.0  0.0      0.0  1.0   \n",
       "25        0.0       0.0  0.0           0.0   1.0    0.0  0.0      0.0  0.0   \n",
       "26        0.0       0.0  0.0           0.0   1.0    0.0  1.0      0.0  1.0   \n",
       "27        0.0       0.0  0.0           0.0   1.0    0.0  2.0      0.0  1.0   \n",
       "28        0.0       0.0  0.0           0.0   0.0    0.0  2.0      0.0  0.0   \n",
       "29        0.0       0.0  0.0           0.0   1.0    0.0  0.0      0.0  1.0   \n",
       "30        0.0       0.0  0.0           0.0   1.0    0.0  0.0      0.0  0.0   \n",
       "31        0.0       0.0  0.0           0.0   0.0    0.0  0.0      0.0  0.0   \n",
       "32        0.0       0.0  0.0           0.0   0.0    0.0  0.0      0.0  0.0   \n",
       "33        0.0       0.0  0.0           0.0   0.0    0.0  0.0      0.0  0.0   \n",
       "34        0.0       0.0  0.0           0.0   0.0    0.0  0.0      0.0  0.0   \n",
       "35        0.0       0.0  0.0           0.0   0.0    0.0  0.0      0.0  0.0   \n",
       "36        0.0       0.0  0.0           0.0   0.0    0.0  1.0      0.0  0.0   \n",
       "37        0.0       0.0  0.0           0.0   0.0    0.0  0.0      0.0  0.0   \n",
       "38        0.0       0.0  0.0           0.0   0.0    0.0  0.0      0.0  0.0   \n",
       "39        0.0       0.0  0.0           0.0   0.0    0.0  0.0      0.0  0.0   \n",
       "\n",
       "    war  ...  relocate  jowhar  pilgrimage  jean  bertrand  aristide  yvon  \\\n",
       "20  0.0  ...       0.0     0.0         0.0   0.0       0.0       0.0   0.0   \n",
       "21  0.0  ...       0.0     0.0         0.0   0.0       0.0       0.0   0.0   \n",
       "22  0.0  ...       0.0     0.0         0.0   0.0       0.0       0.0   0.0   \n",
       "23  0.0  ...       0.0     0.0         0.0   0.0       0.0       0.0   0.0   \n",
       "24  0.0  ...       0.0     0.0         0.0   0.0       0.0       0.0   0.0   \n",
       "25  0.0  ...       0.0     0.0         0.0   0.0       0.0       0.0   0.0   \n",
       "26  0.0  ...       0.0     0.0         0.0   0.0       0.0       0.0   0.0   \n",
       "27  0.0  ...       0.0     0.0         0.0   0.0       0.0       0.0   0.0   \n",
       "28  0.0  ...       0.0     0.0         0.0   0.0       0.0       0.0   0.0   \n",
       "29  0.0  ...       0.0     0.0         0.0   0.0       0.0       0.0   0.0   \n",
       "30  0.0  ...       0.0     0.0         0.0   0.0       0.0       0.0   0.0   \n",
       "31  0.0  ...       0.0     0.0         0.0   0.0       0.0       0.0   0.0   \n",
       "32  0.0  ...       0.0     0.0         0.0   0.0       0.0       0.0   0.0   \n",
       "33  0.0  ...       0.0     0.0         0.0   0.0       0.0       0.0   0.0   \n",
       "34  0.0  ...       0.0     0.0         0.0   0.0       0.0       0.0   0.0   \n",
       "35  0.0  ...       0.0     0.0         0.0   0.0       0.0       0.0   0.0   \n",
       "36  0.0  ...       0.0     0.0         0.0   0.0       0.0       0.0   0.0   \n",
       "37  0.0  ...       0.0     0.0         0.0   0.0       0.0       0.0   0.0   \n",
       "38  0.0  ...       0.0     0.0         0.0   0.0       0.0       0.0   0.0   \n",
       "39  0.0  ...       0.0     0.0         0.0   0.0       0.0       0.0   0.0   \n",
       "\n",
       "    neptune  privert  downgrade  \n",
       "20      0.0      0.0        0.0  \n",
       "21      0.0      0.0        0.0  \n",
       "22      0.0      0.0        0.0  \n",
       "23      0.0      0.0        0.0  \n",
       "24      0.0      0.0        0.0  \n",
       "25      0.0      0.0        0.0  \n",
       "26      0.0      0.0        0.0  \n",
       "27      0.0      0.0        0.0  \n",
       "28      0.0      0.0        0.0  \n",
       "29      0.0      0.0        0.0  \n",
       "30      0.0      0.0        0.0  \n",
       "31      0.0      0.0        0.0  \n",
       "32      0.0      0.0        0.0  \n",
       "33      0.0      0.0        0.0  \n",
       "34      0.0      0.0        0.0  \n",
       "35      0.0      0.0        0.0  \n",
       "36      0.0      0.0        0.0  \n",
       "37      0.0      0.0        0.0  \n",
       "38      0.0      0.0        0.0  \n",
       "39      0.0      0.0        0.0  \n",
       "\n",
       "[20 rows x 4970 columns]"
      ],
      "text/html": "<div>\n<style scoped>\n    .dataframe tbody tr th:only-of-type {\n        vertical-align: middle;\n    }\n\n    .dataframe tbody tr th {\n        vertical-align: top;\n    }\n\n    .dataframe thead th {\n        text-align: right;\n    }\n</style>\n<table border=\"1\" class=\"dataframe\">\n  <thead>\n    <tr style=\"text-align: right;\">\n      <th></th>\n      <th>attempted</th>\n      <th>thousand</th>\n      <th>of</th>\n      <th>demonstrator</th>\n      <th>have</th>\n      <th>march</th>\n      <th>to</th>\n      <th>protest</th>\n      <th>the</th>\n      <th>war</th>\n      <th>...</th>\n      <th>relocate</th>\n      <th>jowhar</th>\n      <th>pilgrimage</th>\n      <th>jean</th>\n      <th>bertrand</th>\n      <th>aristide</th>\n      <th>yvon</th>\n      <th>neptune</th>\n      <th>privert</th>\n      <th>downgrade</th>\n    </tr>\n  </thead>\n  <tbody>\n    <tr>\n      <th>20</th>\n      <td>0.0</td>\n      <td>0.0</td>\n      <td>1.0</td>\n      <td>0.0</td>\n      <td>0.0</td>\n      <td>0.0</td>\n      <td>0.0</td>\n      <td>0.0</td>\n      <td>0.0</td>\n      <td>0.0</td>\n      <td>...</td>\n      <td>0.0</td>\n      <td>0.0</td>\n      <td>0.0</td>\n      <td>0.0</td>\n      <td>0.0</td>\n      <td>0.0</td>\n      <td>0.0</td>\n      <td>0.0</td>\n      <td>0.0</td>\n      <td>0.0</td>\n    </tr>\n    <tr>\n      <th>21</th>\n      <td>0.0</td>\n      <td>0.0</td>\n      <td>1.0</td>\n      <td>0.0</td>\n      <td>0.0</td>\n      <td>0.0</td>\n      <td>0.0</td>\n      <td>0.0</td>\n      <td>1.0</td>\n      <td>0.0</td>\n      <td>...</td>\n      <td>0.0</td>\n      <td>0.0</td>\n      <td>0.0</td>\n      <td>0.0</td>\n      <td>0.0</td>\n      <td>0.0</td>\n      <td>0.0</td>\n      <td>0.0</td>\n      <td>0.0</td>\n      <td>0.0</td>\n    </tr>\n    <tr>\n      <th>22</th>\n      <td>0.0</td>\n      <td>0.0</td>\n      <td>0.0</td>\n      <td>0.0</td>\n      <td>0.0</td>\n      <td>0.0</td>\n      <td>1.0</td>\n      <td>0.0</td>\n      <td>0.0</td>\n      <td>0.0</td>\n      <td>...</td>\n      <td>0.0</td>\n      <td>0.0</td>\n      <td>0.0</td>\n      <td>0.0</td>\n      <td>0.0</td>\n      <td>0.0</td>\n      <td>0.0</td>\n      <td>0.0</td>\n      <td>0.0</td>\n      <td>0.0</td>\n    </tr>\n    <tr>\n      <th>23</th>\n      <td>0.0</td>\n      <td>0.0</td>\n      <td>1.0</td>\n      <td>0.0</td>\n      <td>0.0</td>\n      <td>0.0</td>\n      <td>0.0</td>\n      <td>0.0</td>\n      <td>1.0</td>\n      <td>0.0</td>\n      <td>...</td>\n      <td>0.0</td>\n      <td>0.0</td>\n      <td>0.0</td>\n      <td>0.0</td>\n      <td>0.0</td>\n      <td>0.0</td>\n      <td>0.0</td>\n      <td>0.0</td>\n      <td>0.0</td>\n      <td>0.0</td>\n    </tr>\n    <tr>\n      <th>24</th>\n      <td>0.0</td>\n      <td>0.0</td>\n      <td>1.0</td>\n      <td>0.0</td>\n      <td>0.0</td>\n      <td>0.0</td>\n      <td>0.0</td>\n      <td>0.0</td>\n      <td>1.0</td>\n      <td>0.0</td>\n      <td>...</td>\n      <td>0.0</td>\n      <td>0.0</td>\n      <td>0.0</td>\n      <td>0.0</td>\n      <td>0.0</td>\n      <td>0.0</td>\n      <td>0.0</td>\n      <td>0.0</td>\n      <td>0.0</td>\n      <td>0.0</td>\n    </tr>\n    <tr>\n      <th>25</th>\n      <td>0.0</td>\n      <td>0.0</td>\n      <td>0.0</td>\n      <td>0.0</td>\n      <td>1.0</td>\n      <td>0.0</td>\n      <td>0.0</td>\n      <td>0.0</td>\n      <td>0.0</td>\n      <td>0.0</td>\n      <td>...</td>\n      <td>0.0</td>\n      <td>0.0</td>\n      <td>0.0</td>\n      <td>0.0</td>\n      <td>0.0</td>\n      <td>0.0</td>\n      <td>0.0</td>\n      <td>0.0</td>\n      <td>0.0</td>\n      <td>0.0</td>\n    </tr>\n    <tr>\n      <th>26</th>\n      <td>0.0</td>\n      <td>0.0</td>\n      <td>0.0</td>\n      <td>0.0</td>\n      <td>1.0</td>\n      <td>0.0</td>\n      <td>1.0</td>\n      <td>0.0</td>\n      <td>1.0</td>\n      <td>0.0</td>\n      <td>...</td>\n      <td>0.0</td>\n      <td>0.0</td>\n      <td>0.0</td>\n      <td>0.0</td>\n      <td>0.0</td>\n      <td>0.0</td>\n      <td>0.0</td>\n      <td>0.0</td>\n      <td>0.0</td>\n      <td>0.0</td>\n    </tr>\n    <tr>\n      <th>27</th>\n      <td>0.0</td>\n      <td>0.0</td>\n      <td>0.0</td>\n      <td>0.0</td>\n      <td>1.0</td>\n      <td>0.0</td>\n      <td>2.0</td>\n      <td>0.0</td>\n      <td>1.0</td>\n      <td>0.0</td>\n      <td>...</td>\n      <td>0.0</td>\n      <td>0.0</td>\n      <td>0.0</td>\n      <td>0.0</td>\n      <td>0.0</td>\n      <td>0.0</td>\n      <td>0.0</td>\n      <td>0.0</td>\n      <td>0.0</td>\n      <td>0.0</td>\n    </tr>\n    <tr>\n      <th>28</th>\n      <td>0.0</td>\n      <td>0.0</td>\n      <td>0.0</td>\n      <td>0.0</td>\n      <td>0.0</td>\n      <td>0.0</td>\n      <td>2.0</td>\n      <td>0.0</td>\n      <td>0.0</td>\n      <td>0.0</td>\n      <td>...</td>\n      <td>0.0</td>\n      <td>0.0</td>\n      <td>0.0</td>\n      <td>0.0</td>\n      <td>0.0</td>\n      <td>0.0</td>\n      <td>0.0</td>\n      <td>0.0</td>\n      <td>0.0</td>\n      <td>0.0</td>\n    </tr>\n    <tr>\n      <th>29</th>\n      <td>0.0</td>\n      <td>0.0</td>\n      <td>0.0</td>\n      <td>0.0</td>\n      <td>1.0</td>\n      <td>0.0</td>\n      <td>0.0</td>\n      <td>0.0</td>\n      <td>1.0</td>\n      <td>0.0</td>\n      <td>...</td>\n      <td>0.0</td>\n      <td>0.0</td>\n      <td>0.0</td>\n      <td>0.0</td>\n      <td>0.0</td>\n      <td>0.0</td>\n      <td>0.0</td>\n      <td>0.0</td>\n      <td>0.0</td>\n      <td>0.0</td>\n    </tr>\n    <tr>\n      <th>30</th>\n      <td>0.0</td>\n      <td>0.0</td>\n      <td>0.0</td>\n      <td>0.0</td>\n      <td>1.0</td>\n      <td>0.0</td>\n      <td>0.0</td>\n      <td>0.0</td>\n      <td>0.0</td>\n      <td>0.0</td>\n      <td>...</td>\n      <td>0.0</td>\n      <td>0.0</td>\n      <td>0.0</td>\n      <td>0.0</td>\n      <td>0.0</td>\n      <td>0.0</td>\n      <td>0.0</td>\n      <td>0.0</td>\n      <td>0.0</td>\n      <td>0.0</td>\n    </tr>\n    <tr>\n      <th>31</th>\n      <td>0.0</td>\n      <td>0.0</td>\n      <td>0.0</td>\n      <td>0.0</td>\n      <td>0.0</td>\n      <td>0.0</td>\n      <td>0.0</td>\n      <td>0.0</td>\n      <td>0.0</td>\n      <td>0.0</td>\n      <td>...</td>\n      <td>0.0</td>\n      <td>0.0</td>\n      <td>0.0</td>\n      <td>0.0</td>\n      <td>0.0</td>\n      <td>0.0</td>\n      <td>0.0</td>\n      <td>0.0</td>\n      <td>0.0</td>\n      <td>0.0</td>\n    </tr>\n    <tr>\n      <th>32</th>\n      <td>0.0</td>\n      <td>0.0</td>\n      <td>0.0</td>\n      <td>0.0</td>\n      <td>0.0</td>\n      <td>0.0</td>\n      <td>0.0</td>\n      <td>0.0</td>\n      <td>0.0</td>\n      <td>0.0</td>\n      <td>...</td>\n      <td>0.0</td>\n      <td>0.0</td>\n      <td>0.0</td>\n      <td>0.0</td>\n      <td>0.0</td>\n      <td>0.0</td>\n      <td>0.0</td>\n      <td>0.0</td>\n      <td>0.0</td>\n      <td>0.0</td>\n    </tr>\n    <tr>\n      <th>33</th>\n      <td>0.0</td>\n      <td>0.0</td>\n      <td>0.0</td>\n      <td>0.0</td>\n      <td>0.0</td>\n      <td>0.0</td>\n      <td>0.0</td>\n      <td>0.0</td>\n      <td>0.0</td>\n      <td>0.0</td>\n      <td>...</td>\n      <td>0.0</td>\n      <td>0.0</td>\n      <td>0.0</td>\n      <td>0.0</td>\n      <td>0.0</td>\n      <td>0.0</td>\n      <td>0.0</td>\n      <td>0.0</td>\n      <td>0.0</td>\n      <td>0.0</td>\n    </tr>\n    <tr>\n      <th>34</th>\n      <td>0.0</td>\n      <td>0.0</td>\n      <td>0.0</td>\n      <td>0.0</td>\n      <td>0.0</td>\n      <td>0.0</td>\n      <td>0.0</td>\n      <td>0.0</td>\n      <td>0.0</td>\n      <td>0.0</td>\n      <td>...</td>\n      <td>0.0</td>\n      <td>0.0</td>\n      <td>0.0</td>\n      <td>0.0</td>\n      <td>0.0</td>\n      <td>0.0</td>\n      <td>0.0</td>\n      <td>0.0</td>\n      <td>0.0</td>\n      <td>0.0</td>\n    </tr>\n    <tr>\n      <th>35</th>\n      <td>0.0</td>\n      <td>0.0</td>\n      <td>0.0</td>\n      <td>0.0</td>\n      <td>0.0</td>\n      <td>0.0</td>\n      <td>0.0</td>\n      <td>0.0</td>\n      <td>0.0</td>\n      <td>0.0</td>\n      <td>...</td>\n      <td>0.0</td>\n      <td>0.0</td>\n      <td>0.0</td>\n      <td>0.0</td>\n      <td>0.0</td>\n      <td>0.0</td>\n      <td>0.0</td>\n      <td>0.0</td>\n      <td>0.0</td>\n      <td>0.0</td>\n    </tr>\n    <tr>\n      <th>36</th>\n      <td>0.0</td>\n      <td>0.0</td>\n      <td>0.0</td>\n      <td>0.0</td>\n      <td>0.0</td>\n      <td>0.0</td>\n      <td>1.0</td>\n      <td>0.0</td>\n      <td>0.0</td>\n      <td>0.0</td>\n      <td>...</td>\n      <td>0.0</td>\n      <td>0.0</td>\n      <td>0.0</td>\n      <td>0.0</td>\n      <td>0.0</td>\n      <td>0.0</td>\n      <td>0.0</td>\n      <td>0.0</td>\n      <td>0.0</td>\n      <td>0.0</td>\n    </tr>\n    <tr>\n      <th>37</th>\n      <td>0.0</td>\n      <td>0.0</td>\n      <td>0.0</td>\n      <td>0.0</td>\n      <td>0.0</td>\n      <td>0.0</td>\n      <td>0.0</td>\n      <td>0.0</td>\n      <td>0.0</td>\n      <td>0.0</td>\n      <td>...</td>\n      <td>0.0</td>\n      <td>0.0</td>\n      <td>0.0</td>\n      <td>0.0</td>\n      <td>0.0</td>\n      <td>0.0</td>\n      <td>0.0</td>\n      <td>0.0</td>\n      <td>0.0</td>\n      <td>0.0</td>\n    </tr>\n    <tr>\n      <th>38</th>\n      <td>0.0</td>\n      <td>0.0</td>\n      <td>0.0</td>\n      <td>0.0</td>\n      <td>0.0</td>\n      <td>0.0</td>\n      <td>0.0</td>\n      <td>0.0</td>\n      <td>0.0</td>\n      <td>0.0</td>\n      <td>...</td>\n      <td>0.0</td>\n      <td>0.0</td>\n      <td>0.0</td>\n      <td>0.0</td>\n      <td>0.0</td>\n      <td>0.0</td>\n      <td>0.0</td>\n      <td>0.0</td>\n      <td>0.0</td>\n      <td>0.0</td>\n    </tr>\n    <tr>\n      <th>39</th>\n      <td>0.0</td>\n      <td>0.0</td>\n      <td>0.0</td>\n      <td>0.0</td>\n      <td>0.0</td>\n      <td>0.0</td>\n      <td>0.0</td>\n      <td>0.0</td>\n      <td>0.0</td>\n      <td>0.0</td>\n      <td>...</td>\n      <td>0.0</td>\n      <td>0.0</td>\n      <td>0.0</td>\n      <td>0.0</td>\n      <td>0.0</td>\n      <td>0.0</td>\n      <td>0.0</td>\n      <td>0.0</td>\n      <td>0.0</td>\n      <td>0.0</td>\n    </tr>\n  </tbody>\n</table>\n<p>20 rows × 4970 columns</p>\n</div>"
     },
     "metadata": {},
     "execution_count": 6
    }
   ],
   "source": [
    "bigdf = a2.create_table(instances)\n",
    "bigdf[20:40]"
   ]
  },
  {
   "cell_type": "code",
   "execution_count": 7,
   "metadata": {},
   "outputs": [
    {
     "output_type": "execute_result",
     "data": {
      "text/plain": [
       "(array([[6353.,    0.,    0., ...,    0.,    0.,    0.],\n",
       "        [2448.,    0.,    0., ...,    0.,    0.,    0.],\n",
       "        [6348.,    0.,    0., ...,    0.,    0.,    0.],\n",
       "        ...,\n",
       "        [6312.,    0.,    0., ...,    0.,    0.,    0.],\n",
       "        [4247.,    0.,    0., ...,    0.,    0.,    0.],\n",
       "        [6229.,    0.,    0., ...,    0.,    0.,    0.]]),\n",
       " 0       tim\n",
       " 1       tim\n",
       " 2       geo\n",
       " 3       geo\n",
       " 4       tim\n",
       "        ... \n",
       " 5530    gpe\n",
       " 5531    geo\n",
       " 5532    geo\n",
       " 5533    gpe\n",
       " 5534    org\n",
       " Name: class, Length: 5535, dtype: object,\n",
       " array([[4.000e+00, 0.000e+00, 0.000e+00, ..., 0.000e+00, 0.000e+00,\n",
       "         0.000e+00],\n",
       "        [9.000e+00, 0.000e+00, 0.000e+00, ..., 0.000e+00, 0.000e+00,\n",
       "         0.000e+00],\n",
       "        [1.400e+01, 0.000e+00, 0.000e+00, ..., 0.000e+00, 0.000e+00,\n",
       "         0.000e+00],\n",
       "        ...,\n",
       "        [6.905e+03, 0.000e+00, 0.000e+00, ..., 0.000e+00, 0.000e+00,\n",
       "         0.000e+00],\n",
       "        [6.910e+03, 0.000e+00, 0.000e+00, ..., 0.000e+00, 0.000e+00,\n",
       "         0.000e+00],\n",
       "        [6.911e+03, 0.000e+00, 0.000e+00, ..., 0.000e+00, 0.000e+00,\n",
       "         0.000e+00]]),\n",
       " 0       geo\n",
       " 1       gpe\n",
       " 2       geo\n",
       " 3       geo\n",
       " 4       gpe\n",
       "        ... \n",
       " 1379    per\n",
       " 1380    per\n",
       " 1381    geo\n",
       " 1382    tim\n",
       " 1383    gpe\n",
       " Name: class, Length: 1384, dtype: object)"
      ]
     },
     "metadata": {},
     "execution_count": 7
    }
   ],
   "source": [
    "train_X, train_y, test_X, test_y = a2.ttsplit(bigdf)\n",
    "\n",
    "# X and y mean feature matrix and class respectively.\n",
    "train_X, train_y, test_X, test_y"
   ]
  },
  {
   "cell_type": "code",
   "execution_count": 8,
   "metadata": {},
   "outputs": [
    {
     "output_type": "execute_result",
     "data": {
      "text/plain": [
       "0.20002890591125885"
      ]
     },
     "metadata": {},
     "execution_count": 8
    }
   ],
   "source": [
    "len(test_y) / (len(test_y) + len(train_y))"
   ]
  },
  {
   "cell_type": "code",
   "execution_count": 9,
   "metadata": {},
   "outputs": [
    {
     "output_type": "execute_result",
     "data": {
      "text/plain": [
       "0.20002890591125885"
      ]
     },
     "metadata": {},
     "execution_count": 9
    }
   ],
   "source": [
    "len(test_X) / (len(test_X) + len(train_X))"
   ]
  },
  {
   "cell_type": "code",
   "execution_count": 10,
   "metadata": {},
   "outputs": [
    {
     "output_type": "execute_result",
     "data": {
      "text/plain": [
       "'geo'"
      ]
     },
     "metadata": {},
     "execution_count": 10
    }
   ],
   "source": [
    "test_y[0]"
   ]
  },
  {
   "cell_type": "markdown",
   "metadata": {},
   "source": [
    "## Part 4 - Training the model (0 points)"
   ]
  },
  {
   "cell_type": "markdown",
   "metadata": {},
   "source": [
    "This part you won't do yourself."
   ]
  },
  {
   "cell_type": "code",
   "execution_count": 11,
   "metadata": {},
   "outputs": [
    {
     "output_type": "stream",
     "name": "stderr",
     "text": [
      "/usr/local/lib64/python3.7/site-packages/sklearn/svm/_base.py:986: ConvergenceWarning: Liblinear failed to converge, increase the number of iterations.\n  \"the number of iterations.\", ConvergenceWarning)\n"
     ]
    }
   ],
   "source": [
    "model = LinearSVC()\n",
    "model.fit(train_X, train_y)\n",
    "train_predictions = model.predict(train_X)\n",
    "test_predictions = model.predict(test_X)"
   ]
  },
  {
   "cell_type": "code",
   "execution_count": 12,
   "metadata": {},
   "outputs": [
    {
     "output_type": "execute_result",
     "data": {
      "text/plain": [
       "array(['nat', 'nat', 'nat', ..., 'nat', 'nat', 'nat'], dtype=object)"
      ]
     },
     "metadata": {},
     "execution_count": 12
    }
   ],
   "source": [
    "train_predictions"
   ]
  },
  {
   "cell_type": "code",
   "execution_count": 13,
   "metadata": {},
   "outputs": [
    {
     "output_type": "execute_result",
     "data": {
      "text/plain": [
       "0       tim\n",
       "1       tim\n",
       "2       geo\n",
       "3       geo\n",
       "4       tim\n",
       "       ... \n",
       "5530    gpe\n",
       "5531    geo\n",
       "5532    geo\n",
       "5533    gpe\n",
       "5534    org\n",
       "Name: class, Length: 5535, dtype: object"
      ]
     },
     "metadata": {},
     "execution_count": 13
    }
   ],
   "source": [
    "train_y"
   ]
  },
  {
   "cell_type": "code",
   "execution_count": 14,
   "metadata": {},
   "outputs": [
    {
     "output_type": "execute_result",
     "data": {
      "text/plain": [
       "array(['tim', 'geo', 'geo', ..., 'nat', 'nat', 'nat'], dtype=object)"
      ]
     },
     "metadata": {},
     "execution_count": 14
    }
   ],
   "source": [
    "test_predictions"
   ]
  },
  {
   "cell_type": "code",
   "execution_count": 15,
   "metadata": {},
   "outputs": [
    {
     "output_type": "execute_result",
     "data": {
      "text/plain": [
       "0       geo\n",
       "1       gpe\n",
       "2       geo\n",
       "3       geo\n",
       "4       gpe\n",
       "       ... \n",
       "1379    per\n",
       "1380    per\n",
       "1381    geo\n",
       "1382    tim\n",
       "1383    gpe\n",
       "Name: class, Length: 1384, dtype: object"
      ]
     },
     "metadata": {},
     "execution_count": 15
    }
   ],
   "source": [
    "test_y"
   ]
  },
  {
   "cell_type": "markdown",
   "metadata": {},
   "source": [
    "## Part 5 - Evaluation (5 points)"
   ]
  },
  {
   "cell_type": "markdown",
   "metadata": {},
   "source": [
    "Investigate for yourself what a \"confusion matrix\".  Then implement a function that takes the data and produces a confusion matrix in any readable form that allows us to compare the performance of the model by class.  "
   ]
  },
  {
   "cell_type": "code",
   "execution_count": 16,
   "metadata": {},
   "outputs": [
    {
     "output_type": "execute_result",
     "data": {
      "text/plain": [
       "     art  eve  geo  gpe  nat  org  per  tim\n",
       "art    0    0    4    2    5    1    0    0\n",
       "eve    0    0    3    1    7    0    0    0\n",
       "geo    0    0   94   11  319    2    1    2\n",
       "gpe    0    0   40   32  178   11    1    1\n",
       "nat    0    0    1    1    1    0    0    0\n",
       "org    0    0   30   13  180    9    0    1\n",
       "per    0    0   27   11  155   12    0    0\n",
       "tim    0    0   44    4  174    4    1    1"
      ],
      "text/html": "<div>\n<style scoped>\n    .dataframe tbody tr th:only-of-type {\n        vertical-align: middle;\n    }\n\n    .dataframe tbody tr th {\n        vertical-align: top;\n    }\n\n    .dataframe thead th {\n        text-align: right;\n    }\n</style>\n<table border=\"1\" class=\"dataframe\">\n  <thead>\n    <tr style=\"text-align: right;\">\n      <th></th>\n      <th>art</th>\n      <th>eve</th>\n      <th>geo</th>\n      <th>gpe</th>\n      <th>nat</th>\n      <th>org</th>\n      <th>per</th>\n      <th>tim</th>\n    </tr>\n  </thead>\n  <tbody>\n    <tr>\n      <th>art</th>\n      <td>0</td>\n      <td>0</td>\n      <td>4</td>\n      <td>2</td>\n      <td>5</td>\n      <td>1</td>\n      <td>0</td>\n      <td>0</td>\n    </tr>\n    <tr>\n      <th>eve</th>\n      <td>0</td>\n      <td>0</td>\n      <td>3</td>\n      <td>1</td>\n      <td>7</td>\n      <td>0</td>\n      <td>0</td>\n      <td>0</td>\n    </tr>\n    <tr>\n      <th>geo</th>\n      <td>0</td>\n      <td>0</td>\n      <td>94</td>\n      <td>11</td>\n      <td>319</td>\n      <td>2</td>\n      <td>1</td>\n      <td>2</td>\n    </tr>\n    <tr>\n      <th>gpe</th>\n      <td>0</td>\n      <td>0</td>\n      <td>40</td>\n      <td>32</td>\n      <td>178</td>\n      <td>11</td>\n      <td>1</td>\n      <td>1</td>\n    </tr>\n    <tr>\n      <th>nat</th>\n      <td>0</td>\n      <td>0</td>\n      <td>1</td>\n      <td>1</td>\n      <td>1</td>\n      <td>0</td>\n      <td>0</td>\n      <td>0</td>\n    </tr>\n    <tr>\n      <th>org</th>\n      <td>0</td>\n      <td>0</td>\n      <td>30</td>\n      <td>13</td>\n      <td>180</td>\n      <td>9</td>\n      <td>0</td>\n      <td>1</td>\n    </tr>\n    <tr>\n      <th>per</th>\n      <td>0</td>\n      <td>0</td>\n      <td>27</td>\n      <td>11</td>\n      <td>155</td>\n      <td>12</td>\n      <td>0</td>\n      <td>0</td>\n    </tr>\n    <tr>\n      <th>tim</th>\n      <td>0</td>\n      <td>0</td>\n      <td>44</td>\n      <td>4</td>\n      <td>174</td>\n      <td>4</td>\n      <td>1</td>\n      <td>1</td>\n    </tr>\n  </tbody>\n</table>\n</div>"
     },
     "metadata": {},
     "execution_count": 16
    }
   ],
   "source": [
    "a2.confusion_matrix(test_y, test_predictions)"
   ]
  },
  {
   "cell_type": "code",
   "execution_count": 17,
   "metadata": {},
   "outputs": [
    {
     "output_type": "execute_result",
     "data": {
      "text/plain": [
       "     art  eve  geo  gpe   nat  org  per  tim\n",
       "art    1    0   15    3    20    2    0    0\n",
       "eve    0    0    9    2    21    2    0    0\n",
       "geo    0    0  383   32  1217    7    0    2\n",
       "gpe    0    0  154  127   667   16    1    2\n",
       "nat    0    0    5    1    10    1    0    0\n",
       "org    0    0  115   40   780   61    2    4\n",
       "per    0    0   88   34   750   16   13    1\n",
       "tim    0    0  180   14   698   18    1   20"
      ],
      "text/html": "<div>\n<style scoped>\n    .dataframe tbody tr th:only-of-type {\n        vertical-align: middle;\n    }\n\n    .dataframe tbody tr th {\n        vertical-align: top;\n    }\n\n    .dataframe thead th {\n        text-align: right;\n    }\n</style>\n<table border=\"1\" class=\"dataframe\">\n  <thead>\n    <tr style=\"text-align: right;\">\n      <th></th>\n      <th>art</th>\n      <th>eve</th>\n      <th>geo</th>\n      <th>gpe</th>\n      <th>nat</th>\n      <th>org</th>\n      <th>per</th>\n      <th>tim</th>\n    </tr>\n  </thead>\n  <tbody>\n    <tr>\n      <th>art</th>\n      <td>1</td>\n      <td>0</td>\n      <td>15</td>\n      <td>3</td>\n      <td>20</td>\n      <td>2</td>\n      <td>0</td>\n      <td>0</td>\n    </tr>\n    <tr>\n      <th>eve</th>\n      <td>0</td>\n      <td>0</td>\n      <td>9</td>\n      <td>2</td>\n      <td>21</td>\n      <td>2</td>\n      <td>0</td>\n      <td>0</td>\n    </tr>\n    <tr>\n      <th>geo</th>\n      <td>0</td>\n      <td>0</td>\n      <td>383</td>\n      <td>32</td>\n      <td>1217</td>\n      <td>7</td>\n      <td>0</td>\n      <td>2</td>\n    </tr>\n    <tr>\n      <th>gpe</th>\n      <td>0</td>\n      <td>0</td>\n      <td>154</td>\n      <td>127</td>\n      <td>667</td>\n      <td>16</td>\n      <td>1</td>\n      <td>2</td>\n    </tr>\n    <tr>\n      <th>nat</th>\n      <td>0</td>\n      <td>0</td>\n      <td>5</td>\n      <td>1</td>\n      <td>10</td>\n      <td>1</td>\n      <td>0</td>\n      <td>0</td>\n    </tr>\n    <tr>\n      <th>org</th>\n      <td>0</td>\n      <td>0</td>\n      <td>115</td>\n      <td>40</td>\n      <td>780</td>\n      <td>61</td>\n      <td>2</td>\n      <td>4</td>\n    </tr>\n    <tr>\n      <th>per</th>\n      <td>0</td>\n      <td>0</td>\n      <td>88</td>\n      <td>34</td>\n      <td>750</td>\n      <td>16</td>\n      <td>13</td>\n      <td>1</td>\n    </tr>\n    <tr>\n      <th>tim</th>\n      <td>0</td>\n      <td>0</td>\n      <td>180</td>\n      <td>14</td>\n      <td>698</td>\n      <td>18</td>\n      <td>1</td>\n      <td>20</td>\n    </tr>\n  </tbody>\n</table>\n</div>"
     },
     "metadata": {},
     "execution_count": 17
    }
   ],
   "source": [
    "a2.confusion_matrix(train_y, train_predictions)"
   ]
  },
  {
   "cell_type": "markdown",
   "metadata": {},
   "source": [
    "Examine the matrix and describe your observations in README.md.  In particular, what do you notice about the predictions on the training data compared to those on the test data."
   ]
  },
  {
   "cell_type": "markdown",
   "metadata": {},
   "source": [
    "## Bonus Part A - Error analysis (2 points)"
   ]
  },
  {
   "cell_type": "markdown",
   "metadata": {},
   "source": [
    "Look at the weakest-performing classes in the confusion matrix (or any, if they all perform poorly to the same extent).  Find some examples in the test data on which the classifier classified incorrectly for those classes.  What do you think is the reason why those are hard?  Consider linguistic factors and statistical factors, if applicable.  Write your answer in README.md."
   ]
  },
  {
   "cell_type": "markdown",
   "metadata": {},
   "source": [
    "## Bonus Part B - Expanding the feature space (7 points)"
   ]
  },
  {
   "cell_type": "markdown",
   "metadata": {},
   "source": [
    "Run the entire process above, but incorporate part-of-speech tag information into the feature vectors.  It's your choice as to how to do this, but document it in README.md.  Your new process should run from the single call below:"
   ]
  },
  {
   "cell_type": "code",
   "execution_count": 18,
   "metadata": {},
   "outputs": [],
   "source": [
    "a2.bonusb('/scratch/lt2222-v21-resources/GMB_dataset.txt')"
   ]
  }
 ],
 "metadata": {
  "kernelspec": {
   "display_name": "Python 3",
   "language": "python",
   "name": "python3"
  },
  "language_info": {
   "codemirror_mode": {
    "name": "ipython",
    "version": 3
   },
   "file_extension": ".py",
   "mimetype": "text/x-python",
   "name": "python",
   "nbconvert_exporter": "python",
   "pygments_lexer": "ipython3",
   "version": "3.7.4-final"
  }
 },
 "nbformat": 4,
 "nbformat_minor": 2
}